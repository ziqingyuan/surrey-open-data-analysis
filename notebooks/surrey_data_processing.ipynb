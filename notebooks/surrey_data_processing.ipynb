{
 "cells": [
  {
   "cell_type": "code",
   "execution_count": 2,
   "metadata": {
    "collapsed": true
   },
   "outputs": [
    {
     "name": "stdout",
     "output_type": "stream",
     "text": [
      "1856\n",
      "1856\n"
     ]
    }
   ],
   "source": [
    "#process restaurant data\n",
    "from scripts.data_processing import csv_to_restaurant_data, generate_clean_restaurant\n",
    "from scripts.data_warehousing import restaurant_storing\n",
    "\n",
    "restaurant_array_raw = []\n",
    "\n",
    "csv_to_restaurant_data(restaurant_array_raw)\n",
    "\n",
    "print(len(restaurant_array_raw))\n",
    "\n",
    "generate_clean_restaurant(restaurant_array_raw)\n"
   ]
  },
  {
   "cell_type": "code",
   "execution_count": 3,
   "outputs": [
    {
     "name": "stdout",
     "output_type": "stream",
     "text": [
      "3012\n"
     ]
    }
   ],
   "source": [
    "#process transit_stop data\n",
    "from scripts.data_processing import json_to_stop_data, generate_clean_transit_stop\n",
    "from scripts.data_warehousing import transitstop_storing\n",
    "\n",
    "\n",
    "transit_stop_array = []\n",
    "\n",
    "json_to_stop_data(transit_stop_array)\n",
    "\n",
    "print(len(transit_stop_array))\n",
    "\n",
    "generate_clean_transit_stop(transit_stop_array)\n"
   ],
   "metadata": {
    "collapsed": false
   }
  },
  {
   "cell_type": "code",
   "execution_count": 4,
   "outputs": [],
   "source": [
    "# data storing, to mysql database\n",
    "\n",
    "from scripts.data_warehousing import reset\n",
    "reset()\n",
    "\n",
    "restaurant_storing(restaurant_array_raw)\n",
    "transitstop_storing(transit_stop_array)\n"
   ],
   "metadata": {
    "collapsed": false
   }
  },
  {
   "cell_type": "code",
   "execution_count": null,
   "outputs": [],
   "source": [],
   "metadata": {
    "collapsed": false
   }
  }
 ],
 "metadata": {
  "kernelspec": {
   "display_name": "Python 3",
   "language": "python",
   "name": "python3"
  },
  "language_info": {
   "codemirror_mode": {
    "name": "ipython",
    "version": 2
   },
   "file_extension": ".py",
   "mimetype": "text/x-python",
   "name": "python",
   "nbconvert_exporter": "python",
   "pygments_lexer": "ipython2",
   "version": "2.7.6"
  }
 },
 "nbformat": 4,
 "nbformat_minor": 0
}
