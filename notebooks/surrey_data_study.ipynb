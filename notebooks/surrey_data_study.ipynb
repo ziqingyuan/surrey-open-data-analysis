{
 "cells": [
  {
   "cell_type": "code",
   "execution_count": 1,
   "metadata": {
    "collapsed": true
   },
   "outputs": [
    {
     "name": "stdout",
     "output_type": "stream",
     "text": [
      "['Dog Off-Leash' 'Games' 'Tennis' 'Volleyball' 'Bike Park' 'Skate Park'\n",
      " 'Lacrosse Box' 'Water Park' 'Hotel' 'RCMP' 'Golf' 'Other Recreation'\n",
      " 'Hospital' 'Swimming Pool' 'Municipal' 'Washroom' 'Community Hall/Centre'\n",
      " 'Attraction' 'Arena' 'Park' 'Library' 'Fire' 'Recreation Centre'\n",
      " 'Justice' 'Other' 'Cemetery' 'Movie Theatre' 'Seniors Centre' 'Church'\n",
      " 'School' 'Shopping Centre' 'Youth Centre']\n"
     ]
    }
   ],
   "source": [
    "#This notebook is for analysing how the .csv \"places_of_interest\" type data is not clean, and aim to produce some insights on how to clean that dataset\n",
    "import pandas as pd\n",
    "\n",
    "df_facilities = pd.read_csv(\"../data/raw/places_of_interest.csv\")\n",
    "\n",
    "df_row_no_subtype = df_facilities[df_facilities['FACILITY_SUBTYPE'].isnull() & df_facilities['FACILITY_TYPE'].notnull()]\n",
    "\n",
    "type_without_subtype = df_row_no_subtype['FACILITY_TYPE'].unique()\n",
    "\n",
    "print(type_without_subtype)"
   ]
  },
  {
   "cell_type": "code",
   "execution_count": 2,
   "outputs": [
    {
     "data": {
      "text/plain": "              LOCATION                                NAME FACILITY_TYPE  \\\n541  13485 CENTRAL AVE                                 KPU        School   \n545       14123 92 AVE       Resource And Education Centre        School   \n546       17465 60 AVE  William Of Orange Christian School        School   \n\n                                               WEBLINK FACILITY_SUBTYPE  \\\n541                      https://www.kpu.ca/civicplaza              NaN   \n545  https://www.surreyschools.ca/About/ContactUs/P...              NaN   \n546                                                NaN              NaN   \n\n     FACILITYID   LONGITUDE   LATITUDE  \n541  1002133300 -122.848020  49.190620  \n545  1001853315 -122.831090  49.170601  \n546  1001980867 -122.739273  49.112740  ",
      "text/html": "<div>\n<style scoped>\n    .dataframe tbody tr th:only-of-type {\n        vertical-align: middle;\n    }\n\n    .dataframe tbody tr th {\n        vertical-align: top;\n    }\n\n    .dataframe thead th {\n        text-align: right;\n    }\n</style>\n<table border=\"1\" class=\"dataframe\">\n  <thead>\n    <tr style=\"text-align: right;\">\n      <th></th>\n      <th>LOCATION</th>\n      <th>NAME</th>\n      <th>FACILITY_TYPE</th>\n      <th>WEBLINK</th>\n      <th>FACILITY_SUBTYPE</th>\n      <th>FACILITYID</th>\n      <th>LONGITUDE</th>\n      <th>LATITUDE</th>\n    </tr>\n  </thead>\n  <tbody>\n    <tr>\n      <th>541</th>\n      <td>13485 CENTRAL AVE</td>\n      <td>KPU</td>\n      <td>School</td>\n      <td>https://www.kpu.ca/civicplaza</td>\n      <td>NaN</td>\n      <td>1002133300</td>\n      <td>-122.848020</td>\n      <td>49.190620</td>\n    </tr>\n    <tr>\n      <th>545</th>\n      <td>14123 92 AVE</td>\n      <td>Resource And Education Centre</td>\n      <td>School</td>\n      <td>https://www.surreyschools.ca/About/ContactUs/P...</td>\n      <td>NaN</td>\n      <td>1001853315</td>\n      <td>-122.831090</td>\n      <td>49.170601</td>\n    </tr>\n    <tr>\n      <th>546</th>\n      <td>17465 60 AVE</td>\n      <td>William Of Orange Christian School</td>\n      <td>School</td>\n      <td>NaN</td>\n      <td>NaN</td>\n      <td>1001980867</td>\n      <td>-122.739273</td>\n      <td>49.112740</td>\n    </tr>\n  </tbody>\n</table>\n</div>"
     },
     "metadata": {},
     "output_type": "display_data"
    },
    {
     "name": "stdout",
     "output_type": "stream",
     "text": [
      "['Elementary' 'Secondary' 'Private' 'Administration'\n",
      " 'Programs and Services' 'Adult/Continuing Education' 'Post-Secondary'\n",
      " 'Francophone' nan 'District Program School']\n"
     ]
    }
   ],
   "source": [
    "#get the school that have no subtype\n",
    "school_without_subtype = df_row_no_subtype[df_row_no_subtype['FACILITY_TYPE'] == 'School']\n",
    "display(school_without_subtype)\n",
    "\n",
    "\n",
    "school_subtype_data = df_facilities[df_facilities['FACILITY_TYPE'] == 'School']['FACILITY_SUBTYPE'].unique()\n",
    "print(school_subtype_data)\n",
    "\n",
    "#these facilities shouldn't be classified as school, but can under the\n",
    "# KPU -> 'Post-Secondary'\n",
    "# Resource And Education Centre -> 'Programs and Services'\n",
    "# William Of Orange Christian School -> 'Christian' (new subtype)"
   ],
   "metadata": {
    "collapsed": false
   }
  },
  {
   "cell_type": "code",
   "execution_count": 5,
   "outputs": [
    {
     "name": "stdout",
     "output_type": "stream",
     "text": [
      "['School' 'Garbage and Recycling' 'Shopping Centre' 'Recreation Centre'\n",
      " 'Other' 'Attraction']\n"
     ]
    },
    {
     "data": {
      "text/plain": "                    LOCATION  \\\n216              6050 176 ST   \n219              6050 176 ST   \n225        13723 CRESCENT RD   \n229  14225 GREEN TIMBERS WAY   \n230  14225 GREEN TIMBERS WAY   \n246           13458 107A AVE   \n247        13723 CRESCENT RD   \n250              6188 176 ST   \n263             10588 160 ST   \n275            14439 104 AVE   \n282                      NaN   \n301             14246 44 AVE   \n321              7027 184 ST   \n324            13511 102 AVE   \n345             17651 56 AVE   \n350       17944 COLEBROOK RD   \n360             17635 58 AVE   \n416             17835 62 Ave   \n423          10605 CITY PKWY   \n431              6220 184 ST   \n433             14320 57 AVE   \n435        13723 CRESCENT RD   \n436          10275 CITY PKWY   \n438         16555 FRASER HWY   \n439             17763 62 Ave   \n453             13750 88 AVE   \n455             13730 72 AVE   \n488            17710 56A AVE   \n490            15105 105 AVE   \n491             16748 50 AVE   \n495                      NaN   \n510          10277 CITY PKWY   \n513          9752 192 Street   \n527              6386 176 ST   \n528             7155 187A St   \n534              6022 176 ST   \n541        13485 CENTRAL AVE   \n545             14123 92 AVE   \n546             17465 60 AVE   \n552                      NaN   \n588     16555 FRASER HIGHWAY   \n608  14225 GREEN TIMBERS WAY   \n\n                                                  NAME      FACILITY_TYPE  \\\n216                                       Stetson Bowl         Attraction   \n219                    Fraser Downs Racetrack & Casino         Attraction   \n225                          The Hooser Weaving Centre         Attraction   \n229                Surrey Nature Centre Admin Building         Attraction   \n230                               Surrey Nature Centre         Attraction   \n246                     Chuck Bailey Recreation Centre  Recreation Centre   \n247                              Historic Stewart Farm         Attraction   \n250                       Cloverdale Recreation Centre  Recreation Centre   \n263                   Fraser Heights Recreation Centre  Recreation Centre   \n275                              Surrey Board of Trade              Other   \n282   Pacific Highway Border Crossing (Truck Crossing)              Other   \n301                                     Serpentine Fen         Attraction   \n321                              Surrey Little Theatre         Attraction   \n324                             Arts Council of Surrey              Other   \n345                                    Surrey Archives         Attraction   \n350                  Surrey Animal and Adoption Centre              Other   \n360                         Cloverdale Mini Rec Centre  Recreation Centre   \n416                       Exhibition Grounds Show Barn              Other   \n423                                B.C. Lions Building              Other   \n431                    Don Christian Recreation Centre  Recreation Centre   \n433                                      Pondside Cafe              Other   \n435                         EHP - Caretakers Residence              Other   \n436                     North Surrey Recreation Centre  Recreation Centre   \n438                    Surrey Sports & Leisure Complex  Recreation Centre   \n439               Cloverdale Fairgrounds Agriplex Bldg              Other   \n453                                 Surrey Arts Centre         Attraction   \n455                           Newton Recreation Centre  Recreation Centre   \n488                                   Museum of Surrey         Attraction   \n490                        Guildford Recreation Centre  Recreation Centre   \n491                                SPCA - Animal Pound              Other   \n495               Peace Arch Border Crossing (Douglas)              Other   \n510                                 Surrey Central CRU              Other   \n513                            Surrey Biofuel Facility              Other   \n527                  Bill Reid Millennium Amphitheatre         Attraction   \n528                           CLAYTON COMMUNITY CENTRE  Recreation Centre   \n534                  Old Surrey Museum (Trucks Museum)         Attraction   \n541                                                KPU             School   \n545                      Resource And Education Centre             School   \n546                 William Of Orange Christian School             School   \n552                              Guildford Town Centre    Shopping Centre   \n588  Surrey Sport and Leisure Complex Retail       ...  Recreation Centre   \n608  Surrey Nature Centre Classroom Building       ...         Attraction   \n\n                                               WEBLINK FACILITY_SUBTYPE  \\\n216  http://www.cloverdalerodeo.com/our-facilities/...              NaN   \n219                         http://www.fraserdowns.com              NaN   \n225               http://www.surrey.ca/youth/4751.aspx              NaN   \n229  http://www.surrey.ca/culture-recreation/2311.aspx              NaN   \n230  http://www.surrey.ca/culture-recreation/2311.aspx              NaN   \n246  http://www.surrey.ca/culture-recreation/1914.aspx              NaN   \n247  http://www.surrey.ca/culture-recreation/2875.aspx              NaN   \n250  http://www.surrey.ca/culture-recreation/8524.aspx              NaN   \n263  http://www.surrey.ca/culture-recreation/1928.aspx              NaN   \n275                    http://www.businessinsurrey.com              NaN   \n282                                                NaN              NaN   \n301  http://www.surrey.ca/culture-recreation/2300.aspx              NaN   \n321  http://www.surreylittletheatre.com/Site/Welcom...              NaN   \n324                http://www.surrey.ca/youth/132.aspx              NaN   \n345  http://www.surrey.ca/culture-recreation/2394.aspx              NaN   \n350      http://www.surrey.ca/city-services/11182.aspx              NaN   \n360  http://www.surrey.ca/culture-recreation/8524.aspx              NaN   \n416  http://www.cloverdalerodeo.com/our-facilities/...              NaN   \n423                             http://www.bclions.com              NaN   \n431  http://www.surrey.ca/culture-recreation/5035.aspx              NaN   \n433                               http://www.surrey.ca              NaN   \n435        http://www.surrey.ca/city-services/481.aspx              NaN   \n436  http://www.surrey.ca/culture-recreation/5048.aspx              NaN   \n438  http://www.surrey.ca/culture-recreation/1888.aspx              NaN   \n439         http://www.cloverdalerodeo.com/contact-us/              NaN   \n453  http://www.surrey.ca/culture-recreation/1619.aspx              NaN   \n455  http://www.surrey.ca/culture-recreation/5048.aspx              NaN   \n488  http://www.surrey.ca/culture-recreation/2372.aspx              NaN   \n490  http://www.surrey.ca/culture-recreation/1876.aspx              NaN   \n491                       http://www.spca.bc.ca/surrey              NaN   \n495                                                NaN              NaN   \n510                                                NaN              NaN   \n513                      https://www.surreybiofuel.ca/              NaN   \n527  http://www.surrey.ca/culture-recreation/2175.aspx              NaN   \n528                                                NaN              NaN   \n534  http://www.surrey.ca/culture-recreation/2372.aspx              NaN   \n541                      https://www.kpu.ca/civicplaza              NaN   \n545  https://www.surreyschools.ca/About/ContactUs/P...              NaN   \n546                                                NaN              NaN   \n552                https://www.guildfordtowncentre.com              NaN   \n588  http://www.surrey.ca/culture-recreation/4838.aspx              NaN   \n608  http://www.surrey.ca/culture-recreation/2311.aspx              NaN   \n\n     FACILITYID   LONGITUDE   LATITUDE  \n216  1001222976 -122.726848  49.115428  \n219  1001222988 -122.730457  49.112249  \n225  1001223003 -122.841202  49.065127  \n229  1001223011 -122.830348  49.178869  \n230  1001223012 -122.830335  49.179224  \n246  1001222918 -122.849280  49.196878  \n247  1001222925 -122.842009  49.065085  \n250  1001356175 -122.734058  49.115201  \n263  1001222955 -122.777250  49.195072  \n275  1001245453 -122.822113  49.191801  \n282  1001263698 -122.734148  49.003011  \n301  1001314146 -122.826703  49.081721  \n321  1001344712 -122.712878  49.130055  \n324  1001349790 -122.847052  49.188102  \n345  1001356182 -122.733147  49.104474  \n350  1001706984 -122.725477  49.097718  \n360  1001287199 -122.733948  49.107927  \n416  1001223080 -122.729209  49.116128  \n423  1001355065 -122.848667  49.195600  \n431  1001222973 -122.711391  49.115481  \n433  1001222946 -122.826038  49.105604  \n435  1001222923 -122.842646  49.065260  \n436  1001222926 -122.848821  49.189572  \n438  1001222990 -122.764491  49.152903  \n439  1001223045 -122.730152  49.116241  \n453  1001222954 -122.842042  49.162305  \n455  1001223008 -122.842065  49.132880  \n488  1001222908 -122.732249  49.104593  \n490  1001222939 -122.802579  49.193819  \n491  1001316093 -122.757997  49.092863  \n495  1001348503 -122.757483  49.004948  \n510  1001223021 -122.847924  49.189414  \n513  1001948487 -122.687241  49.179487  \n527  1001222978 -122.731967  49.117518  \n528  1002227571 -122.704577  49.132950  \n534  1001223030 -122.734214  49.111872  \n541  1002133300 -122.848020  49.190620  \n545  1001853315 -122.831090  49.170601  \n546  1001980867 -122.739273  49.112740  \n552  1001270132 -122.802244  49.188549  \n588  1001222990 -122.764476  49.152993  \n608  1001223012 -122.830198  49.179269  ",
      "text/html": "<div>\n<style scoped>\n    .dataframe tbody tr th:only-of-type {\n        vertical-align: middle;\n    }\n\n    .dataframe tbody tr th {\n        vertical-align: top;\n    }\n\n    .dataframe thead th {\n        text-align: right;\n    }\n</style>\n<table border=\"1\" class=\"dataframe\">\n  <thead>\n    <tr style=\"text-align: right;\">\n      <th></th>\n      <th>LOCATION</th>\n      <th>NAME</th>\n      <th>FACILITY_TYPE</th>\n      <th>WEBLINK</th>\n      <th>FACILITY_SUBTYPE</th>\n      <th>FACILITYID</th>\n      <th>LONGITUDE</th>\n      <th>LATITUDE</th>\n    </tr>\n  </thead>\n  <tbody>\n    <tr>\n      <th>216</th>\n      <td>6050 176 ST</td>\n      <td>Stetson Bowl</td>\n      <td>Attraction</td>\n      <td>http://www.cloverdalerodeo.com/our-facilities/...</td>\n      <td>NaN</td>\n      <td>1001222976</td>\n      <td>-122.726848</td>\n      <td>49.115428</td>\n    </tr>\n    <tr>\n      <th>219</th>\n      <td>6050 176 ST</td>\n      <td>Fraser Downs Racetrack &amp; Casino</td>\n      <td>Attraction</td>\n      <td>http://www.fraserdowns.com</td>\n      <td>NaN</td>\n      <td>1001222988</td>\n      <td>-122.730457</td>\n      <td>49.112249</td>\n    </tr>\n    <tr>\n      <th>225</th>\n      <td>13723 CRESCENT RD</td>\n      <td>The Hooser Weaving Centre</td>\n      <td>Attraction</td>\n      <td>http://www.surrey.ca/youth/4751.aspx</td>\n      <td>NaN</td>\n      <td>1001223003</td>\n      <td>-122.841202</td>\n      <td>49.065127</td>\n    </tr>\n    <tr>\n      <th>229</th>\n      <td>14225 GREEN TIMBERS WAY</td>\n      <td>Surrey Nature Centre Admin Building</td>\n      <td>Attraction</td>\n      <td>http://www.surrey.ca/culture-recreation/2311.aspx</td>\n      <td>NaN</td>\n      <td>1001223011</td>\n      <td>-122.830348</td>\n      <td>49.178869</td>\n    </tr>\n    <tr>\n      <th>230</th>\n      <td>14225 GREEN TIMBERS WAY</td>\n      <td>Surrey Nature Centre</td>\n      <td>Attraction</td>\n      <td>http://www.surrey.ca/culture-recreation/2311.aspx</td>\n      <td>NaN</td>\n      <td>1001223012</td>\n      <td>-122.830335</td>\n      <td>49.179224</td>\n    </tr>\n    <tr>\n      <th>246</th>\n      <td>13458 107A AVE</td>\n      <td>Chuck Bailey Recreation Centre</td>\n      <td>Recreation Centre</td>\n      <td>http://www.surrey.ca/culture-recreation/1914.aspx</td>\n      <td>NaN</td>\n      <td>1001222918</td>\n      <td>-122.849280</td>\n      <td>49.196878</td>\n    </tr>\n    <tr>\n      <th>247</th>\n      <td>13723 CRESCENT RD</td>\n      <td>Historic Stewart Farm</td>\n      <td>Attraction</td>\n      <td>http://www.surrey.ca/culture-recreation/2875.aspx</td>\n      <td>NaN</td>\n      <td>1001222925</td>\n      <td>-122.842009</td>\n      <td>49.065085</td>\n    </tr>\n    <tr>\n      <th>250</th>\n      <td>6188 176 ST</td>\n      <td>Cloverdale Recreation Centre</td>\n      <td>Recreation Centre</td>\n      <td>http://www.surrey.ca/culture-recreation/8524.aspx</td>\n      <td>NaN</td>\n      <td>1001356175</td>\n      <td>-122.734058</td>\n      <td>49.115201</td>\n    </tr>\n    <tr>\n      <th>263</th>\n      <td>10588 160 ST</td>\n      <td>Fraser Heights Recreation Centre</td>\n      <td>Recreation Centre</td>\n      <td>http://www.surrey.ca/culture-recreation/1928.aspx</td>\n      <td>NaN</td>\n      <td>1001222955</td>\n      <td>-122.777250</td>\n      <td>49.195072</td>\n    </tr>\n    <tr>\n      <th>275</th>\n      <td>14439 104 AVE</td>\n      <td>Surrey Board of Trade</td>\n      <td>Other</td>\n      <td>http://www.businessinsurrey.com</td>\n      <td>NaN</td>\n      <td>1001245453</td>\n      <td>-122.822113</td>\n      <td>49.191801</td>\n    </tr>\n    <tr>\n      <th>282</th>\n      <td>NaN</td>\n      <td>Pacific Highway Border Crossing (Truck Crossing)</td>\n      <td>Other</td>\n      <td>NaN</td>\n      <td>NaN</td>\n      <td>1001263698</td>\n      <td>-122.734148</td>\n      <td>49.003011</td>\n    </tr>\n    <tr>\n      <th>301</th>\n      <td>14246 44 AVE</td>\n      <td>Serpentine Fen</td>\n      <td>Attraction</td>\n      <td>http://www.surrey.ca/culture-recreation/2300.aspx</td>\n      <td>NaN</td>\n      <td>1001314146</td>\n      <td>-122.826703</td>\n      <td>49.081721</td>\n    </tr>\n    <tr>\n      <th>321</th>\n      <td>7027 184 ST</td>\n      <td>Surrey Little Theatre</td>\n      <td>Attraction</td>\n      <td>http://www.surreylittletheatre.com/Site/Welcom...</td>\n      <td>NaN</td>\n      <td>1001344712</td>\n      <td>-122.712878</td>\n      <td>49.130055</td>\n    </tr>\n    <tr>\n      <th>324</th>\n      <td>13511 102 AVE</td>\n      <td>Arts Council of Surrey</td>\n      <td>Other</td>\n      <td>http://www.surrey.ca/youth/132.aspx</td>\n      <td>NaN</td>\n      <td>1001349790</td>\n      <td>-122.847052</td>\n      <td>49.188102</td>\n    </tr>\n    <tr>\n      <th>345</th>\n      <td>17651 56 AVE</td>\n      <td>Surrey Archives</td>\n      <td>Attraction</td>\n      <td>http://www.surrey.ca/culture-recreation/2394.aspx</td>\n      <td>NaN</td>\n      <td>1001356182</td>\n      <td>-122.733147</td>\n      <td>49.104474</td>\n    </tr>\n    <tr>\n      <th>350</th>\n      <td>17944 COLEBROOK RD</td>\n      <td>Surrey Animal and Adoption Centre</td>\n      <td>Other</td>\n      <td>http://www.surrey.ca/city-services/11182.aspx</td>\n      <td>NaN</td>\n      <td>1001706984</td>\n      <td>-122.725477</td>\n      <td>49.097718</td>\n    </tr>\n    <tr>\n      <th>360</th>\n      <td>17635 58 AVE</td>\n      <td>Cloverdale Mini Rec Centre</td>\n      <td>Recreation Centre</td>\n      <td>http://www.surrey.ca/culture-recreation/8524.aspx</td>\n      <td>NaN</td>\n      <td>1001287199</td>\n      <td>-122.733948</td>\n      <td>49.107927</td>\n    </tr>\n    <tr>\n      <th>416</th>\n      <td>17835 62 Ave</td>\n      <td>Exhibition Grounds Show Barn</td>\n      <td>Other</td>\n      <td>http://www.cloverdalerodeo.com/our-facilities/...</td>\n      <td>NaN</td>\n      <td>1001223080</td>\n      <td>-122.729209</td>\n      <td>49.116128</td>\n    </tr>\n    <tr>\n      <th>423</th>\n      <td>10605 CITY PKWY</td>\n      <td>B.C. Lions Building</td>\n      <td>Other</td>\n      <td>http://www.bclions.com</td>\n      <td>NaN</td>\n      <td>1001355065</td>\n      <td>-122.848667</td>\n      <td>49.195600</td>\n    </tr>\n    <tr>\n      <th>431</th>\n      <td>6220 184 ST</td>\n      <td>Don Christian Recreation Centre</td>\n      <td>Recreation Centre</td>\n      <td>http://www.surrey.ca/culture-recreation/5035.aspx</td>\n      <td>NaN</td>\n      <td>1001222973</td>\n      <td>-122.711391</td>\n      <td>49.115481</td>\n    </tr>\n    <tr>\n      <th>433</th>\n      <td>14320 57 AVE</td>\n      <td>Pondside Cafe</td>\n      <td>Other</td>\n      <td>http://www.surrey.ca</td>\n      <td>NaN</td>\n      <td>1001222946</td>\n      <td>-122.826038</td>\n      <td>49.105604</td>\n    </tr>\n    <tr>\n      <th>435</th>\n      <td>13723 CRESCENT RD</td>\n      <td>EHP - Caretakers Residence</td>\n      <td>Other</td>\n      <td>http://www.surrey.ca/city-services/481.aspx</td>\n      <td>NaN</td>\n      <td>1001222923</td>\n      <td>-122.842646</td>\n      <td>49.065260</td>\n    </tr>\n    <tr>\n      <th>436</th>\n      <td>10275 CITY PKWY</td>\n      <td>North Surrey Recreation Centre</td>\n      <td>Recreation Centre</td>\n      <td>http://www.surrey.ca/culture-recreation/5048.aspx</td>\n      <td>NaN</td>\n      <td>1001222926</td>\n      <td>-122.848821</td>\n      <td>49.189572</td>\n    </tr>\n    <tr>\n      <th>438</th>\n      <td>16555 FRASER HWY</td>\n      <td>Surrey Sports &amp; Leisure Complex</td>\n      <td>Recreation Centre</td>\n      <td>http://www.surrey.ca/culture-recreation/1888.aspx</td>\n      <td>NaN</td>\n      <td>1001222990</td>\n      <td>-122.764491</td>\n      <td>49.152903</td>\n    </tr>\n    <tr>\n      <th>439</th>\n      <td>17763 62 Ave</td>\n      <td>Cloverdale Fairgrounds Agriplex Bldg</td>\n      <td>Other</td>\n      <td>http://www.cloverdalerodeo.com/contact-us/</td>\n      <td>NaN</td>\n      <td>1001223045</td>\n      <td>-122.730152</td>\n      <td>49.116241</td>\n    </tr>\n    <tr>\n      <th>453</th>\n      <td>13750 88 AVE</td>\n      <td>Surrey Arts Centre</td>\n      <td>Attraction</td>\n      <td>http://www.surrey.ca/culture-recreation/1619.aspx</td>\n      <td>NaN</td>\n      <td>1001222954</td>\n      <td>-122.842042</td>\n      <td>49.162305</td>\n    </tr>\n    <tr>\n      <th>455</th>\n      <td>13730 72 AVE</td>\n      <td>Newton Recreation Centre</td>\n      <td>Recreation Centre</td>\n      <td>http://www.surrey.ca/culture-recreation/5048.aspx</td>\n      <td>NaN</td>\n      <td>1001223008</td>\n      <td>-122.842065</td>\n      <td>49.132880</td>\n    </tr>\n    <tr>\n      <th>488</th>\n      <td>17710 56A AVE</td>\n      <td>Museum of Surrey</td>\n      <td>Attraction</td>\n      <td>http://www.surrey.ca/culture-recreation/2372.aspx</td>\n      <td>NaN</td>\n      <td>1001222908</td>\n      <td>-122.732249</td>\n      <td>49.104593</td>\n    </tr>\n    <tr>\n      <th>490</th>\n      <td>15105 105 AVE</td>\n      <td>Guildford Recreation Centre</td>\n      <td>Recreation Centre</td>\n      <td>http://www.surrey.ca/culture-recreation/1876.aspx</td>\n      <td>NaN</td>\n      <td>1001222939</td>\n      <td>-122.802579</td>\n      <td>49.193819</td>\n    </tr>\n    <tr>\n      <th>491</th>\n      <td>16748 50 AVE</td>\n      <td>SPCA - Animal Pound</td>\n      <td>Other</td>\n      <td>http://www.spca.bc.ca/surrey</td>\n      <td>NaN</td>\n      <td>1001316093</td>\n      <td>-122.757997</td>\n      <td>49.092863</td>\n    </tr>\n    <tr>\n      <th>495</th>\n      <td>NaN</td>\n      <td>Peace Arch Border Crossing (Douglas)</td>\n      <td>Other</td>\n      <td>NaN</td>\n      <td>NaN</td>\n      <td>1001348503</td>\n      <td>-122.757483</td>\n      <td>49.004948</td>\n    </tr>\n    <tr>\n      <th>510</th>\n      <td>10277 CITY PKWY</td>\n      <td>Surrey Central CRU</td>\n      <td>Other</td>\n      <td>NaN</td>\n      <td>NaN</td>\n      <td>1001223021</td>\n      <td>-122.847924</td>\n      <td>49.189414</td>\n    </tr>\n    <tr>\n      <th>513</th>\n      <td>9752 192 Street</td>\n      <td>Surrey Biofuel Facility</td>\n      <td>Other</td>\n      <td>https://www.surreybiofuel.ca/</td>\n      <td>NaN</td>\n      <td>1001948487</td>\n      <td>-122.687241</td>\n      <td>49.179487</td>\n    </tr>\n    <tr>\n      <th>527</th>\n      <td>6386 176 ST</td>\n      <td>Bill Reid Millennium Amphitheatre</td>\n      <td>Attraction</td>\n      <td>http://www.surrey.ca/culture-recreation/2175.aspx</td>\n      <td>NaN</td>\n      <td>1001222978</td>\n      <td>-122.731967</td>\n      <td>49.117518</td>\n    </tr>\n    <tr>\n      <th>528</th>\n      <td>7155 187A St</td>\n      <td>CLAYTON COMMUNITY CENTRE</td>\n      <td>Recreation Centre</td>\n      <td>NaN</td>\n      <td>NaN</td>\n      <td>1002227571</td>\n      <td>-122.704577</td>\n      <td>49.132950</td>\n    </tr>\n    <tr>\n      <th>534</th>\n      <td>6022 176 ST</td>\n      <td>Old Surrey Museum (Trucks Museum)</td>\n      <td>Attraction</td>\n      <td>http://www.surrey.ca/culture-recreation/2372.aspx</td>\n      <td>NaN</td>\n      <td>1001223030</td>\n      <td>-122.734214</td>\n      <td>49.111872</td>\n    </tr>\n    <tr>\n      <th>541</th>\n      <td>13485 CENTRAL AVE</td>\n      <td>KPU</td>\n      <td>School</td>\n      <td>https://www.kpu.ca/civicplaza</td>\n      <td>NaN</td>\n      <td>1002133300</td>\n      <td>-122.848020</td>\n      <td>49.190620</td>\n    </tr>\n    <tr>\n      <th>545</th>\n      <td>14123 92 AVE</td>\n      <td>Resource And Education Centre</td>\n      <td>School</td>\n      <td>https://www.surreyschools.ca/About/ContactUs/P...</td>\n      <td>NaN</td>\n      <td>1001853315</td>\n      <td>-122.831090</td>\n      <td>49.170601</td>\n    </tr>\n    <tr>\n      <th>546</th>\n      <td>17465 60 AVE</td>\n      <td>William Of Orange Christian School</td>\n      <td>School</td>\n      <td>NaN</td>\n      <td>NaN</td>\n      <td>1001980867</td>\n      <td>-122.739273</td>\n      <td>49.112740</td>\n    </tr>\n    <tr>\n      <th>552</th>\n      <td>NaN</td>\n      <td>Guildford Town Centre</td>\n      <td>Shopping Centre</td>\n      <td>https://www.guildfordtowncentre.com</td>\n      <td>NaN</td>\n      <td>1001270132</td>\n      <td>-122.802244</td>\n      <td>49.188549</td>\n    </tr>\n    <tr>\n      <th>588</th>\n      <td>16555 FRASER HIGHWAY</td>\n      <td>Surrey Sport and Leisure Complex Retail       ...</td>\n      <td>Recreation Centre</td>\n      <td>http://www.surrey.ca/culture-recreation/4838.aspx</td>\n      <td>NaN</td>\n      <td>1001222990</td>\n      <td>-122.764476</td>\n      <td>49.152993</td>\n    </tr>\n    <tr>\n      <th>608</th>\n      <td>14225 GREEN TIMBERS WAY</td>\n      <td>Surrey Nature Centre Classroom Building       ...</td>\n      <td>Attraction</td>\n      <td>http://www.surrey.ca/culture-recreation/2311.aspx</td>\n      <td>NaN</td>\n      <td>1001223012</td>\n      <td>-122.830198</td>\n      <td>49.179269</td>\n    </tr>\n  </tbody>\n</table>\n</div>"
     },
     "metadata": {},
     "output_type": "display_data"
    },
    {
     "name": "stdout",
     "output_type": "stream",
     "text": [
      "{'School': ['Elementary', 'Secondary', 'Private', 'Administration', 'Programs and Services', 'Adult/Continuing Education', 'Post-Secondary', 'Francophone', nan, 'District Program School'], 'Attraction': [nan, 'Secondary', 'Tourism'], 'Recreation Centre': [nan, 'Private'], 'Other': [nan, 'Tourism', 'Private'], 'Shopping Centre': ['Private', nan]}\n"
     ]
    }
   ],
   "source": [
    "# find if there are also some rows that with a type that contain subtypes but has a null for subtype\n",
    "\n",
    "type_with_subtype = df_facilities[df_facilities['FACILITY_SUBTYPE'].notnull() & df_facilities['FACILITY_TYPE'].notnull()]['FACILITY_TYPE'].unique()\n",
    "print(type_with_subtype)\n",
    "\n",
    "rows_in_type_with_subtype_without_subtype = df_facilities[df_facilities['FACILITY_TYPE'].isin(type_with_subtype) & df_facilities['FACILITY_SUBTYPE'].isnull()]\n",
    "display(rows_in_type_with_subtype_without_subtype)\n",
    "\n",
    "type_with_subtype_without_subtype = rows_in_type_with_subtype_without_subtype['FACILITY_TYPE']\n",
    "type_with_subtype_without_subtype_subtype = df_facilities[df_facilities['FACILITY_TYPE'].isin(type_with_subtype_without_subtype)]\n",
    "data = type_with_subtype_without_subtype_subtype[['FACILITY_TYPE','FACILITY_SUBTYPE']].drop_duplicates(subset=['FACILITY_TYPE', 'FACILITY_SUBTYPE'])\n",
    "\n",
    "type_with_subtype_without_subtype_map = {}\n",
    "\n",
    "for index, row in data.iterrows():\n",
    "    facility_type = row['FACILITY_TYPE']\n",
    "    facility_subtype = row['FACILITY_SUBTYPE']\n",
    "\n",
    "    if facility_type not in type_with_subtype_without_subtype_map:\n",
    "        type_with_subtype_without_subtype_map[facility_type] = []\n",
    "\n",
    "    type_with_subtype_without_subtype_map[facility_type].append(facility_subtype)\n",
    "\n",
    "print(type_with_subtype_without_subtype_map)\n",
    "\n",
    "# display(data)"
   ],
   "metadata": {
    "collapsed": false
   }
  },
  {
   "cell_type": "code",
   "execution_count": 3,
   "outputs": [],
   "source": [],
   "metadata": {
    "collapsed": false
   }
  }
 ],
 "metadata": {
  "kernelspec": {
   "display_name": "Python 3",
   "language": "python",
   "name": "python3"
  },
  "language_info": {
   "codemirror_mode": {
    "name": "ipython",
    "version": 2
   },
   "file_extension": ".py",
   "mimetype": "text/x-python",
   "name": "python",
   "nbconvert_exporter": "python",
   "pygments_lexer": "ipython2",
   "version": "2.7.6"
  }
 },
 "nbformat": 4,
 "nbformat_minor": 0
}
